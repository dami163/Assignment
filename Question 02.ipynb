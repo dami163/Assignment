{
 "cells": [
  {
   "cell_type": "code",
   "execution_count": 1,
   "metadata": {},
   "outputs": [
    {
     "ename": "AssertionError",
     "evalue": "",
     "output_type": "error",
     "traceback": [
      "\u001b[1;31m---------------------------------------------------------------------------\u001b[0m",
      "\u001b[1;31mAssertionError\u001b[0m                            Traceback (most recent call last)",
      "Cell \u001b[1;32mIn[1], line 6\u001b[0m\n\u001b[0;32m      3\u001b[0m \u001b[38;5;28;01mimport\u001b[39;00m \u001b[38;5;21;01mnumpy\u001b[39;00m \u001b[38;5;28;01mas\u001b[39;00m \u001b[38;5;21;01mnp\u001b[39;00m\n\u001b[0;32m      5\u001b[0m img\u001b[38;5;241m=\u001b[39m cv\u001b[38;5;241m.\u001b[39mimread (\u001b[38;5;124m'\u001b[39m\u001b[38;5;124mq2.jpg\u001b[39m\u001b[38;5;124m'\u001b[39m, cv\u001b[38;5;241m.\u001b[39mIMREAD_COLOR)\n\u001b[1;32m----> 6\u001b[0m \u001b[38;5;28;01massert\u001b[39;00m img \u001b[38;5;129;01mis\u001b[39;00m \u001b[38;5;129;01mnot\u001b[39;00m \u001b[38;5;28;01mNone\u001b[39;00m\n\u001b[0;32m      7\u001b[0m imgc \u001b[38;5;241m=\u001b[39m cv\u001b[38;5;241m.\u001b[39mcvtColor(img, cv\u001b[38;5;241m.\u001b[39mCOLOR_BGR2RGB)\n\u001b[0;32m      8\u001b[0m color \u001b[38;5;241m=\u001b[39m (\u001b[38;5;124m'\u001b[39m\u001b[38;5;124mr\u001b[39m\u001b[38;5;124m'\u001b[39m,\u001b[38;5;124m'\u001b[39m\u001b[38;5;124mg\u001b[39m\u001b[38;5;124m'\u001b[39m,\u001b[38;5;124m'\u001b[39m\u001b[38;5;124mb\u001b[39m\u001b[38;5;124m'\u001b[39m)\n",
      "\u001b[1;31mAssertionError\u001b[0m: "
     ]
    }
   ],
   "source": [
    "import cv2 as cv\n",
    "import matplotlib.pyplot as plt\n",
    "import numpy as np\n",
    "\n",
    "img= cv.imread ('q2.jpg', cv.IMREAD_COLOR)\n",
    "assert img is not None\n",
    "imgc = cv.cvtColor(img, cv.COLOR_BGR2RGB)\n",
    "color = ('r','g','b')\n",
    "gamma = 0.8\n",
    "t = np.array([(i/255.)**gamma*255 for i in range (256)], np.uint8)\n",
    "gimg = t[imgc]\n",
    "plt.suptitle(\"Gamma correction Curve\")\n",
    "plt.plot(t)\n",
    "plt.show()\n",
    "\n",
    "\n",
    "fig, ax = plt.subplots(1,2, figsize=(10,3.5))\n",
    "fig.suptitle(\"b. Applying gamma correction\")\n",
    "ax[0].imshow(imgc)\n",
    "ax[0].set_title(\"Original image\")\n",
    "ax[0].axix('off')\n",
    "ax[1].imshow(gimg)\n",
    "ax[1].set_title(\"Gamma Corrected image\")\n",
    "ax[1].axix('off')\n",
    "plt.show()\n",
    "\n",
    "for i , c in enumerate(color):\n",
    "    plt.subplot(1,2,1)\n",
    "    plt.title('Original Histogram')\n",
    "    hist = cv.calcHist([imgc], [i], None, [256], [0,256])\n",
    "    plt.plot(hist, color = c)\n",
    "    plt.xlim([0,256])\n",
    "\n",
    "    plt.subplot(1,2,2)\n",
    "    plt.title('Gamma Corrected Histogram')\n",
    "    hist_g = cv.calcHist([g], [i], None, [256], [0,256])\n",
    "    plt.plot(hist_g, color = c)\n",
    "    plt.xlim([0,256])\n",
    "\n",
    "plt.show()\n"
   ]
  }
 ],
 "metadata": {
  "kernelspec": {
   "display_name": "cv",
   "language": "python",
   "name": "python3"
  },
  "language_info": {
   "codemirror_mode": {
    "name": "ipython",
    "version": 3
   },
   "file_extension": ".py",
   "mimetype": "text/x-python",
   "name": "python",
   "nbconvert_exporter": "python",
   "pygments_lexer": "ipython3",
   "version": "3.12.1"
  }
 },
 "nbformat": 4,
 "nbformat_minor": 2
}
